{
 "cells": [
  {
   "cell_type": "markdown",
   "metadata": {},
   "source": [
    "# Predicting Boston Housing Prices\n",
    "\n",
    "## Using XGBoost in SageMaker (Batch Transform)\n",
    "\n",
    "_Deep Learning Nanodegree Program | Deployment_\n",
    "\n",
    "---\n",
    "\n",
    "As an introduction to using SageMaker's High Level Python API we will look at a relatively simple problem. Namely, we will use the [Boston Housing Dataset](https://www.cs.toronto.edu/~delve/data/boston/bostonDetail.html) to predict the median value of a home in the area of Boston Mass.\n",
    "\n",
    "The documentation for the high level API can be found on the [ReadTheDocs page](http://sagemaker.readthedocs.io/en/latest/)\n",
    "\n",
    "## General Outline\n",
    "\n",
    "Typically, when using a notebook instance with SageMaker, you will proceed through the following steps. Of course, not every step will need to be done with each project. Also, there is quite a lot of room for variation in many of the steps, as you will see throughout these lessons.\n",
    "\n",
    "1. Download or otherwise retrieve the data.\n",
    "2. Process / Prepare the data.\n",
    "3. Upload the processed data to S3.\n",
    "4. Train a chosen model.\n",
    "5. Test the trained model (typically using a batch transform job).\n",
    "6. Deploy the trained model.\n",
    "7. Use the deployed model.\n",
    "\n",
    "In this notebook we will only be covering steps 1 through 5 as we just want to get a feel for using SageMaker. In later notebooks we will talk about deploying a trained model in much more detail."
   ]
  },
  {
   "cell_type": "markdown",
   "metadata": {},
   "source": [
    "## Step 0: Setting up the notebook\n",
    "\n",
    "We begin by setting up all of the necessary bits required to run our notebook. To start that means loading all of the Python modules we will need."
   ]
  },
  {
   "cell_type": "code",
   "execution_count": 1,
   "metadata": {},
   "outputs": [],
   "source": [
    "%matplotlib inline\n",
    "\n",
    "import os\n",
    "\n",
    "import numpy as np\n",
    "import pandas as pd\n",
    "\n",
    "import matplotlib.pyplot as plt\n",
    "\n",
    "from sklearn.datasets import load_boston\n",
    "import sklearn.model_selection"
   ]
  },
  {
   "cell_type": "markdown",
   "metadata": {},
   "source": [
    "In addition to the modules above, we need to import the various bits of SageMaker that we will be using. "
   ]
  },
  {
   "cell_type": "code",
   "execution_count": 2,
   "metadata": {},
   "outputs": [],
   "source": [
    "import sagemaker\n",
    "from sagemaker import get_execution_role\n",
    "from sagemaker.amazon.amazon_estimator import get_image_uri\n",
    "from sagemaker.predictor import csv_serializer\n",
    "\n",
    "# This is an object that represents the SageMaker session that we are currently operating in. This\n",
    "# object contains some useful information that we will need to access later such as our region.\n",
    "session = sagemaker.Session()\n",
    "\n",
    "# This is an object that represents the IAM role that we are currently assigned. When we construct\n",
    "# and launch the training job later we will need to tell it what IAM role it should have. Since our\n",
    "# use case is relatively simple we will simply assign the training job the role we currently have.\n",
    "role = get_execution_role()"
   ]
  },
  {
   "cell_type": "code",
   "execution_count": 5,
   "metadata": {},
   "outputs": [
    {
     "name": "stdout",
     "output_type": "stream",
     "text": [
      "arn:aws:iam::053596391548:role/service-role/AmazonSageMaker-ExecutionRole-20200507T124381\n"
     ]
    }
   ],
   "source": [
    "print(role)"
   ]
  },
  {
   "cell_type": "markdown",
   "metadata": {},
   "source": [
    "## Step 1: Downloading the data\n",
    "\n",
    "Fortunately, this dataset can be retrieved using sklearn and so this step is relatively straightforward."
   ]
  },
  {
   "cell_type": "code",
   "execution_count": 6,
   "metadata": {},
   "outputs": [],
   "source": [
    "boston = load_boston()"
   ]
  },
  {
   "cell_type": "code",
   "execution_count": 7,
   "metadata": {},
   "outputs": [
    {
     "data": {
      "text/plain": [
       "array(['CRIM', 'ZN', 'INDUS', 'CHAS', 'NOX', 'RM', 'AGE', 'DIS', 'RAD',\n",
       "       'TAX', 'PTRATIO', 'B', 'LSTAT'], dtype='<U7')"
      ]
     },
     "execution_count": 7,
     "metadata": {},
     "output_type": "execute_result"
    }
   ],
   "source": [
    "boston.feature_names"
   ]
  },
  {
   "cell_type": "markdown",
   "metadata": {},
   "source": [
    "## Step 2: Preparing and splitting the data\n",
    "\n",
    "Given that this is clean tabular data, we don't need to do any processing. However, we do need to split the rows in the dataset up into train, test and validation sets."
   ]
  },
  {
   "cell_type": "code",
   "execution_count": 8,
   "metadata": {},
   "outputs": [],
   "source": [
    "# First we package up the input data and the target variable (the median value) as pandas dataframes. This\n",
    "# will make saving the data to a file a little easier later on.\n",
    "\n",
    "X_bos_pd = pd.DataFrame(boston.data, columns=boston.feature_names)\n",
    "Y_bos_pd = pd.DataFrame(boston.target)\n",
    "\n",
    "# We split the dataset into 2/3 training and 1/3 testing sets.\n",
    "X_train, X_test, Y_train, Y_test = sklearn.model_selection.train_test_split(X_bos_pd, Y_bos_pd, test_size=0.33)\n",
    "\n",
    "# Then we split the training set further into 2/3 training and 1/3 validation sets.\n",
    "X_train, X_val, Y_train, Y_val = sklearn.model_selection.train_test_split(X_train, Y_train, test_size=0.33)"
   ]
  },
  {
   "cell_type": "markdown",
   "metadata": {},
   "source": [
    "## Step 3: Uploading the data files to S3\n",
    "\n",
    "When a training job is constructed using SageMaker, a container is executed which performs the training operation. This container is given access to data that is stored in S3. This means that we need to upload the data we want to use for training to S3. In addition, when we perform a batch transform job, SageMaker expects the input data to be stored on S3. We can use the SageMaker API to do this and hide some of the details.\n",
    "\n",
    "### Save the data locally\n",
    "\n",
    "First we need to create the test, train and validation csv files which we will then upload to S3."
   ]
  },
  {
   "cell_type": "code",
   "execution_count": 9,
   "metadata": {},
   "outputs": [],
   "source": [
    "# This is our local data directory. We need to make sure that it exists.\n",
    "data_dir = '../data/boston'\n",
    "if not os.path.exists(data_dir):\n",
    "    os.makedirs(data_dir)"
   ]
  },
  {
   "cell_type": "code",
   "execution_count": 10,
   "metadata": {},
   "outputs": [],
   "source": [
    "# We use pandas to save our test, train and validation data to csv files. Note that we make sure not to include header\n",
    "# information or an index as this is required by the built in algorithms provided by Amazon. Also, for the train and\n",
    "# validation data, it is assumed that the first entry in each row is the target variable.\n",
    "\n",
    "X_test.to_csv(os.path.join(data_dir, 'test.csv'), header=False, index=False)\n",
    "\n",
    "pd.concat([Y_val, X_val], axis=1).to_csv(os.path.join(data_dir, 'validation.csv'), header=False, index=False)\n",
    "pd.concat([Y_train, X_train], axis=1).to_csv(os.path.join(data_dir, 'train.csv'), header=False, index=False)"
   ]
  },
  {
   "cell_type": "markdown",
   "metadata": {},
   "source": [
    "### Upload to S3\n",
    "\n",
    "Since we are currently running inside of a SageMaker session, we can use the object which represents this session to upload our data to the 'default' S3 bucket. Note that it is good practice to provide a custom prefix (essentially an S3 folder) to make sure that you don't accidentally interfere with data uploaded from some other notebook or project."
   ]
  },
  {
   "cell_type": "code",
   "execution_count": 11,
   "metadata": {},
   "outputs": [],
   "source": [
    "prefix = 'boston-xgboost-HL'\n",
    "\n",
    "test_location = session.upload_data(os.path.join(data_dir, 'test.csv'), key_prefix=prefix)\n",
    "val_location = session.upload_data(os.path.join(data_dir, 'validation.csv'), key_prefix=prefix)\n",
    "train_location = session.upload_data(os.path.join(data_dir, 'train.csv'), key_prefix=prefix)"
   ]
  },
  {
   "cell_type": "markdown",
   "metadata": {},
   "source": [
    "## Step 4: Train the XGBoost model\n",
    "\n",
    "Now that we have the training and validation data uploaded to S3, we can construct our XGBoost model and train it. We will be making use of the high level SageMaker API to do this which will make the resulting code a little easier to read at the cost of some flexibility.\n",
    "\n",
    "To construct an estimator, the object which we wish to train, we need to provide the location of a container which contains the training code. Since we are using a built in algorithm this container is provided by Amazon. However, the full name of the container is a bit lengthy and depends on the region that we are operating in. Fortunately, SageMaker provides a useful utility method called `get_image_uri` that constructs the image name for us.\n",
    "\n",
    "To use the `get_image_uri` method we need to provide it with our current region, which can be obtained from the session object, and the name of the algorithm we wish to use. In this notebook we will be using XGBoost however you could try another algorithm if you wish. The list of built in algorithms can be found in the list of [Common Parameters](https://docs.aws.amazon.com/sagemaker/latest/dg/sagemaker-algo-docker-registry-paths.html)."
   ]
  },
  {
   "cell_type": "code",
   "execution_count": 13,
   "metadata": {},
   "outputs": [],
   "source": [
    "# As stated above, we use this utility method to construct the image name for the training container.\n",
    "container = get_image_uri(session.boto_region_name, 'xgboost', repo_version = '0.90-2')\n",
    "\n",
    "# Now that we know which container to use, we can construct the estimator object.\n",
    "xgb = sagemaker.estimator.Estimator(container, # The image name of the training container\n",
    "                                    role,      # The IAM role to use (our current role in this case)\n",
    "                                    train_instance_count=1, # The number of instances to use for training\n",
    "                                    train_instance_type='ml.m4.xlarge', # The type of instance to use for training\n",
    "                                    output_path='s3://{}/{}/output'.format(session.default_bucket(), prefix),\n",
    "                                                                        # Where to save the output (the model artifacts)\n",
    "                                    sagemaker_session=session) # The current SageMaker session"
   ]
  },
  {
   "cell_type": "markdown",
   "metadata": {},
   "source": [
    "Before asking SageMaker to begin the training job, we should probably set any model specific hyperparameters. There are quite a few that can be set when using the XGBoost algorithm, below are just a few of them. If you would like to change the hyperparameters below or modify additional ones you can find additional information on the [XGBoost hyperparameter page](https://docs.aws.amazon.com/sagemaker/latest/dg/xgboost_hyperparameters.html)"
   ]
  },
  {
   "cell_type": "code",
   "execution_count": 14,
   "metadata": {},
   "outputs": [],
   "source": [
    "xgb.set_hyperparameters(max_depth=5,\n",
    "                        eta=0.2,\n",
    "                        gamma=4,\n",
    "                        min_child_weight=6,\n",
    "                        subsample=0.8,\n",
    "                        objective='reg:linear',\n",
    "                        early_stopping_rounds=10,\n",
    "                        num_round=200)"
   ]
  },
  {
   "cell_type": "markdown",
   "metadata": {},
   "source": [
    "Now that we have our estimator object completely set up, it is time to train it. To do this we make sure that SageMaker knows our input data is in csv format and then execute the `fit` method."
   ]
  },
  {
   "cell_type": "code",
   "execution_count": 15,
   "metadata": {},
   "outputs": [
    {
     "name": "stdout",
     "output_type": "stream",
     "text": [
      "2020-05-07 19:15:41 Starting - Starting the training job...\n",
      "2020-05-07 19:15:42 Starting - Launching requested ML instances......\n",
      "2020-05-07 19:16:42 Starting - Preparing the instances for training...\n",
      "2020-05-07 19:17:37 Downloading - Downloading input data...\n",
      "2020-05-07 19:18:07 Training - Downloading the training image...\n",
      "2020-05-07 19:18:39 Uploading - Uploading generated training model\n",
      "2020-05-07 19:18:39 Completed - Training job completed\n",
      "\u001b[34mINFO:sagemaker-containers:Imported framework sagemaker_xgboost_container.training\u001b[0m\n",
      "\u001b[34mINFO:sagemaker-containers:Failed to parse hyperparameter objective value reg:linear to Json.\u001b[0m\n",
      "\u001b[34mReturning the value itself\u001b[0m\n",
      "\u001b[34mINFO:sagemaker-containers:No GPUs detected (normal if no gpus installed)\u001b[0m\n",
      "\u001b[34mINFO:sagemaker_xgboost_container.training:Running XGBoost Sagemaker in algorithm mode\u001b[0m\n",
      "\u001b[34mINFO:root:Determined delimiter of CSV input is ','\u001b[0m\n",
      "\u001b[34mINFO:root:Determined delimiter of CSV input is ','\u001b[0m\n",
      "\u001b[34mINFO:root:Determined delimiter of CSV input is ','\u001b[0m\n",
      "\u001b[34m[19:18:29] 227x13 matrix with 2951 entries loaded from /opt/ml/input/data/train?format=csv&label_column=0&delimiter=,\u001b[0m\n",
      "\u001b[34mINFO:root:Determined delimiter of CSV input is ','\u001b[0m\n",
      "\u001b[34m[19:18:29] 112x13 matrix with 1456 entries loaded from /opt/ml/input/data/validation?format=csv&label_column=0&delimiter=,\u001b[0m\n",
      "\u001b[34mINFO:root:Single node training.\u001b[0m\n",
      "\u001b[34mINFO:root:Train matrix has 227 rows\u001b[0m\n",
      "\u001b[34mINFO:root:Validation matrix has 112 rows\u001b[0m\n",
      "\u001b[34m[19:18:29] WARNING: /workspace/src/objective/regression_obj.cu:152: reg:linear is now deprecated in favor of reg:squarederror.\u001b[0m\n",
      "\u001b[34m[0]#011train-rmse:19.9983#011validation-rmse:19.6326\u001b[0m\n",
      "\u001b[34m[1]#011train-rmse:16.4152#011validation-rmse:16.34\u001b[0m\n",
      "\u001b[34m[2]#011train-rmse:13.5204#011validation-rmse:13.8987\u001b[0m\n",
      "\u001b[34m[3]#011train-rmse:11.0486#011validation-rmse:11.8125\u001b[0m\n",
      "\u001b[34m[4]#011train-rmse:9.16533#011validation-rmse:10.1967\u001b[0m\n",
      "\u001b[34m[5]#011train-rmse:7.68612#011validation-rmse:8.93624\u001b[0m\n",
      "\u001b[34m[6]#011train-rmse:6.52474#011validation-rmse:8.04341\u001b[0m\n",
      "\u001b[34m[7]#011train-rmse:5.60684#011validation-rmse:7.2308\u001b[0m\n",
      "\u001b[34m[8]#011train-rmse:4.82906#011validation-rmse:6.43224\u001b[0m\n",
      "\u001b[34m[9]#011train-rmse:4.24344#011validation-rmse:5.91014\u001b[0m\n",
      "\u001b[34m[10]#011train-rmse:3.73958#011validation-rmse:5.4637\u001b[0m\n",
      "\u001b[34m[11]#011train-rmse:3.36648#011validation-rmse:5.15125\u001b[0m\n",
      "\u001b[34m[12]#011train-rmse:3.09801#011validation-rmse:4.94839\u001b[0m\n",
      "\u001b[34m[13]#011train-rmse:2.85513#011validation-rmse:4.67964\u001b[0m\n",
      "\u001b[34m[14]#011train-rmse:2.67446#011validation-rmse:4.5875\u001b[0m\n",
      "\u001b[34m[15]#011train-rmse:2.52869#011validation-rmse:4.53005\u001b[0m\n",
      "\u001b[34m[16]#011train-rmse:2.43765#011validation-rmse:4.46172\u001b[0m\n",
      "\u001b[34m[17]#011train-rmse:2.32397#011validation-rmse:4.40682\u001b[0m\n",
      "\u001b[34m[18]#011train-rmse:2.21298#011validation-rmse:4.27513\u001b[0m\n",
      "\u001b[34m[19]#011train-rmse:2.15944#011validation-rmse:4.23028\u001b[0m\n",
      "\u001b[34m[20]#011train-rmse:2.0796#011validation-rmse:4.17318\u001b[0m\n",
      "\u001b[34m[21]#011train-rmse:2.01307#011validation-rmse:4.16894\u001b[0m\n",
      "\u001b[34m[22]#011train-rmse:1.97859#011validation-rmse:4.13424\u001b[0m\n",
      "\u001b[34m[23]#011train-rmse:1.95013#011validation-rmse:4.10393\u001b[0m\n",
      "\u001b[34m[24]#011train-rmse:1.9138#011validation-rmse:4.06613\u001b[0m\n",
      "\u001b[34m[25]#011train-rmse:1.89499#011validation-rmse:4.06869\u001b[0m\n",
      "\u001b[34m[26]#011train-rmse:1.87984#011validation-rmse:4.07256\u001b[0m\n",
      "\u001b[34m[27]#011train-rmse:1.84794#011validation-rmse:4.01867\u001b[0m\n",
      "\u001b[34m[28]#011train-rmse:1.82463#011validation-rmse:3.97736\u001b[0m\n",
      "\u001b[34m[29]#011train-rmse:1.77811#011validation-rmse:3.93277\u001b[0m\n",
      "\u001b[34m[30]#011train-rmse:1.72754#011validation-rmse:3.93627\u001b[0m\n",
      "\u001b[34m[31]#011train-rmse:1.71068#011validation-rmse:3.95321\u001b[0m\n",
      "\u001b[34m[32]#011train-rmse:1.68486#011validation-rmse:3.97548\u001b[0m\n",
      "\u001b[34m[33]#011train-rmse:1.67131#011validation-rmse:3.95502\u001b[0m\n",
      "\u001b[34m[34]#011train-rmse:1.61401#011validation-rmse:3.94238\u001b[0m\n",
      "\u001b[34m[35]#011train-rmse:1.59725#011validation-rmse:3.91056\u001b[0m\n",
      "\u001b[34m[36]#011train-rmse:1.57403#011validation-rmse:3.93827\u001b[0m\n",
      "\u001b[34m[37]#011train-rmse:1.55669#011validation-rmse:3.95921\u001b[0m\n",
      "\u001b[34m[38]#011train-rmse:1.52688#011validation-rmse:3.94566\u001b[0m\n",
      "\u001b[34m[39]#011train-rmse:1.52086#011validation-rmse:3.92354\u001b[0m\n",
      "\u001b[34m[40]#011train-rmse:1.51591#011validation-rmse:3.94091\u001b[0m\n",
      "\u001b[34m[41]#011train-rmse:1.50455#011validation-rmse:3.91462\u001b[0m\n",
      "\u001b[34m[42]#011train-rmse:1.49564#011validation-rmse:3.90623\u001b[0m\n",
      "\u001b[34m[43]#011train-rmse:1.48851#011validation-rmse:3.88979\u001b[0m\n",
      "\u001b[34m[44]#011train-rmse:1.47964#011validation-rmse:3.90966\u001b[0m\n",
      "\u001b[34m[45]#011train-rmse:1.47705#011validation-rmse:3.92279\u001b[0m\n",
      "\u001b[34m[46]#011train-rmse:1.44077#011validation-rmse:3.94021\u001b[0m\n",
      "\u001b[34m[47]#011train-rmse:1.43107#011validation-rmse:3.93819\u001b[0m\n",
      "\u001b[34m[48]#011train-rmse:1.41701#011validation-rmse:3.91557\u001b[0m\n",
      "\u001b[34m[49]#011train-rmse:1.4017#011validation-rmse:3.92325\u001b[0m\n",
      "\u001b[34m[50]#011train-rmse:1.36552#011validation-rmse:3.8841\u001b[0m\n",
      "\u001b[34m[51]#011train-rmse:1.35173#011validation-rmse:3.86659\u001b[0m\n",
      "\u001b[34m[52]#011train-rmse:1.34893#011validation-rmse:3.88053\u001b[0m\n",
      "\u001b[34m[53]#011train-rmse:1.33883#011validation-rmse:3.8722\u001b[0m\n",
      "\u001b[34m[54]#011train-rmse:1.31602#011validation-rmse:3.90151\u001b[0m\n",
      "\u001b[34m[55]#011train-rmse:1.31275#011validation-rmse:3.88727\u001b[0m\n",
      "\u001b[34m[56]#011train-rmse:1.29372#011validation-rmse:3.90758\u001b[0m\n",
      "\u001b[34m[57]#011train-rmse:1.28934#011validation-rmse:3.92402\u001b[0m\n",
      "\u001b[34m[58]#011train-rmse:1.27598#011validation-rmse:3.89796\u001b[0m\n",
      "\u001b[34m[59]#011train-rmse:1.26499#011validation-rmse:3.85272\u001b[0m\n",
      "\u001b[34m[60]#011train-rmse:1.2329#011validation-rmse:3.85131\u001b[0m\n",
      "\u001b[34m[61]#011train-rmse:1.22826#011validation-rmse:3.83433\u001b[0m\n",
      "\u001b[34m[62]#011train-rmse:1.20099#011validation-rmse:3.84018\u001b[0m\n",
      "\u001b[34m[63]#011train-rmse:1.16751#011validation-rmse:3.80826\u001b[0m\n",
      "\u001b[34m[64]#011train-rmse:1.15002#011validation-rmse:3.7878\u001b[0m\n",
      "\u001b[34m[65]#011train-rmse:1.12576#011validation-rmse:3.79935\u001b[0m\n",
      "\u001b[34m[66]#011train-rmse:1.11692#011validation-rmse:3.80726\u001b[0m\n",
      "\u001b[34m[67]#011train-rmse:1.08723#011validation-rmse:3.79564\u001b[0m\n",
      "\u001b[34m[68]#011train-rmse:1.08713#011validation-rmse:3.79674\u001b[0m\n",
      "\u001b[34m[69]#011train-rmse:1.06977#011validation-rmse:3.77817\u001b[0m\n",
      "\u001b[34m[70]#011train-rmse:1.05151#011validation-rmse:3.79425\u001b[0m\n",
      "\u001b[34m[71]#011train-rmse:1.05151#011validation-rmse:3.79428\u001b[0m\n",
      "\u001b[34m[72]#011train-rmse:1.04947#011validation-rmse:3.79171\u001b[0m\n",
      "\u001b[34m[73]#011train-rmse:1.03233#011validation-rmse:3.75838\u001b[0m\n",
      "\u001b[34m[74]#011train-rmse:1.02239#011validation-rmse:3.74294\u001b[0m\n",
      "\u001b[34m[75]#011train-rmse:1.0245#011validation-rmse:3.75579\u001b[0m\n",
      "\u001b[34m[76]#011train-rmse:1.01312#011validation-rmse:3.74933\u001b[0m\n",
      "\u001b[34m[77]#011train-rmse:1.01124#011validation-rmse:3.74207\u001b[0m\n",
      "\u001b[34m[78]#011train-rmse:1.01126#011validation-rmse:3.74319\u001b[0m\n",
      "\u001b[34m[79]#011train-rmse:1.01279#011validation-rmse:3.75482\u001b[0m\n",
      "\u001b[34m[80]#011train-rmse:1.00202#011validation-rmse:3.73604\u001b[0m\n",
      "\u001b[34m[81]#011train-rmse:0.995888#011validation-rmse:3.74032\u001b[0m\n",
      "\u001b[34m[82]#011train-rmse:0.995874#011validation-rmse:3.74057\u001b[0m\n",
      "\u001b[34m[83]#011train-rmse:0.985249#011validation-rmse:3.72142\u001b[0m\n",
      "\u001b[34m[84]#011train-rmse:0.962907#011validation-rmse:3.73778\u001b[0m\n",
      "\u001b[34m[85]#011train-rmse:0.937522#011validation-rmse:3.71726\u001b[0m\n",
      "\u001b[34m[86]#011train-rmse:0.929889#011validation-rmse:3.7235\u001b[0m\n",
      "\u001b[34m[87]#011train-rmse:0.927842#011validation-rmse:3.71121\u001b[0m\n",
      "\u001b[34m[88]#011train-rmse:0.912064#011validation-rmse:3.72165\u001b[0m\n",
      "\u001b[34m[89]#011train-rmse:0.911494#011validation-rmse:3.71199\u001b[0m\n",
      "\u001b[34m[90]#011train-rmse:0.911478#011validation-rmse:3.7121\u001b[0m\n",
      "\u001b[34m[91]#011train-rmse:0.908445#011validation-rmse:3.69341\u001b[0m\n",
      "\u001b[34m[92]#011train-rmse:0.908649#011validation-rmse:3.6925\u001b[0m\n",
      "\u001b[34m[93]#011train-rmse:0.896663#011validation-rmse:3.68685\u001b[0m\n",
      "\u001b[34m[94]#011train-rmse:0.890715#011validation-rmse:3.66942\u001b[0m\n",
      "\u001b[34m[95]#011train-rmse:0.890603#011validation-rmse:3.67\u001b[0m\n",
      "\u001b[34m[96]#011train-rmse:0.88145#011validation-rmse:3.65372\u001b[0m\n",
      "\u001b[34m[97]#011train-rmse:0.881201#011validation-rmse:3.66412\u001b[0m\n",
      "\u001b[34m[98]#011train-rmse:0.875213#011validation-rmse:3.66763\u001b[0m\n",
      "\u001b[34m[99]#011train-rmse:0.857677#011validation-rmse:3.65042\u001b[0m\n",
      "\u001b[34m[100]#011train-rmse:0.857695#011validation-rmse:3.65024\u001b[0m\n",
      "\u001b[34m[101]#011train-rmse:0.85447#011validation-rmse:3.63185\u001b[0m\n",
      "\u001b[34m[102]#011train-rmse:0.850156#011validation-rmse:3.63991\u001b[0m\n",
      "\u001b[34m[103]#011train-rmse:0.84399#011validation-rmse:3.63445\u001b[0m\n",
      "\u001b[34m[104]#011train-rmse:0.832859#011validation-rmse:3.62439\u001b[0m\n",
      "\u001b[34m[105]#011train-rmse:0.832877#011validation-rmse:3.62428\u001b[0m\n",
      "\u001b[34m[106]#011train-rmse:0.832806#011validation-rmse:3.62494\u001b[0m\n",
      "\u001b[34m[107]#011train-rmse:0.832812#011validation-rmse:3.62483\u001b[0m\n",
      "\u001b[34m[108]#011train-rmse:0.832831#011validation-rmse:3.62575\u001b[0m\n",
      "\u001b[34m[109]#011train-rmse:0.825335#011validation-rmse:3.62762\u001b[0m\n",
      "\u001b[34m[110]#011train-rmse:0.825347#011validation-rmse:3.62773\u001b[0m\n",
      "\u001b[34m[111]#011train-rmse:0.825374#011validation-rmse:3.62792\u001b[0m\n",
      "\u001b[34m[112]#011train-rmse:0.820092#011validation-rmse:3.6231\u001b[0m\n",
      "\u001b[34m[113]#011train-rmse:0.815042#011validation-rmse:3.60883\u001b[0m\n",
      "\u001b[34m[114]#011train-rmse:0.810633#011validation-rmse:3.58843\u001b[0m\n",
      "\u001b[34m[115]#011train-rmse:0.810623#011validation-rmse:3.58826\u001b[0m\n",
      "\u001b[34m[116]#011train-rmse:0.810626#011validation-rmse:3.58833\u001b[0m\n",
      "\u001b[34m[117]#011train-rmse:0.805828#011validation-rmse:3.58765\u001b[0m\n",
      "\u001b[34m[118]#011train-rmse:0.800436#011validation-rmse:3.59313\u001b[0m\n",
      "\u001b[34m[119]#011train-rmse:0.800444#011validation-rmse:3.59351\u001b[0m\n",
      "\u001b[34m[120]#011train-rmse:0.794358#011validation-rmse:3.59152\u001b[0m\n",
      "\u001b[34m[121]#011train-rmse:0.794389#011validation-rmse:3.59178\u001b[0m\n",
      "\u001b[34m[122]#011train-rmse:0.794419#011validation-rmse:3.59197\u001b[0m\n",
      "\u001b[34m[123]#011train-rmse:0.794375#011validation-rmse:3.59168\u001b[0m\n",
      "\u001b[34m[124]#011train-rmse:0.794335#011validation-rmse:3.59105\u001b[0m\n",
      "\u001b[34m[125]#011train-rmse:0.794338#011validation-rmse:3.59119\u001b[0m\n",
      "\u001b[34m[126]#011train-rmse:0.794341#011validation-rmse:3.59127\u001b[0m\n",
      "\u001b[34m[127]#011train-rmse:0.794366#011validation-rmse:3.59048\u001b[0m\n"
     ]
    },
    {
     "name": "stdout",
     "output_type": "stream",
     "text": [
      "Training seconds: 62\n",
      "Billable seconds: 62\n"
     ]
    }
   ],
   "source": [
    "# This is a wrapper around the location of our train and validation data, to make sure that SageMaker\n",
    "# knows our data is in csv format.\n",
    "s3_input_train = sagemaker.s3_input(s3_data=train_location, content_type='csv')\n",
    "s3_input_validation = sagemaker.s3_input(s3_data=val_location, content_type='csv')\n",
    "\n",
    "xgb.fit({'train': s3_input_train, 'validation': s3_input_validation})"
   ]
  },
  {
   "cell_type": "markdown",
   "metadata": {},
   "source": [
    "## Step 5: Test the model\n",
    "\n",
    "Now that we have fit our model to the training data, using the validation data to avoid overfitting, we can test our model. To do this we will make use of SageMaker's Batch Transform functionality. To start with, we need to build a transformer object from our fit model."
   ]
  },
  {
   "cell_type": "code",
   "execution_count": 16,
   "metadata": {},
   "outputs": [],
   "source": [
    "xgb_transformer = xgb.transformer(instance_count = 1, instance_type = 'ml.m4.xlarge')"
   ]
  },
  {
   "cell_type": "markdown",
   "metadata": {},
   "source": [
    "Next we ask SageMaker to begin a batch transform job using our trained model and applying it to the test data we previously stored in S3. We need to make sure to provide SageMaker with the type of data that we are providing to our model, in our case `text/csv`, so that it knows how to serialize our data. In addition, we need to make sure to let SageMaker know how to split our data up into chunks if the entire data set happens to be too large to send to our model all at once.\n",
    "\n",
    "Note that when we ask SageMaker to do this it will execute the batch transform job in the background. Since we need to wait for the results of this job before we can continue, we use the `wait()` method. An added benefit of this is that we get some output from our batch transform job which lets us know if anything went wrong."
   ]
  },
  {
   "cell_type": "code",
   "execution_count": 17,
   "metadata": {},
   "outputs": [],
   "source": [
    "xgb_transformer.transform(test_location, content_type='text/csv', split_type='Line')"
   ]
  },
  {
   "cell_type": "code",
   "execution_count": 18,
   "metadata": {},
   "outputs": [
    {
     "name": "stdout",
     "output_type": "stream",
     "text": [
      "......................\u001b[34m[2020-05-07 19:25:57 +0000] [16] [INFO] Starting gunicorn 19.10.0\u001b[0m\n",
      "\u001b[34m[2020-05-07 19:25:57 +0000] [16] [INFO] Listening at: unix:/tmp/gunicorn.sock (16)\u001b[0m\n",
      "\u001b[34m[2020-05-07 19:25:57 +0000] [16] [INFO] Using worker: gevent\u001b[0m\n",
      "\u001b[34m[2020-05-07 19:25:57 +0000] [23] [INFO] Booting worker with pid: 23\u001b[0m\n",
      "\u001b[34m[2020-05-07 19:25:57 +0000] [24] [INFO] Booting worker with pid: 24\u001b[0m\n",
      "\u001b[34m[2020-05-07 19:25:57 +0000] [25] [INFO] Booting worker with pid: 25\u001b[0m\n",
      "\u001b[34m[2020-05-07 19:25:58 +0000] [26] [INFO] Booting worker with pid: 26\u001b[0m\n",
      "\u001b[34m[2020-05-07:19:26:19:INFO] No GPUs detected (normal if no gpus installed)\u001b[0m\n",
      "\u001b[34m169.254.255.130 - - [07/May/2020:19:26:19 +0000] \"GET /ping HTTP/1.1\" 200 0 \"-\" \"Go-http-client/1.1\"\u001b[0m\n",
      "\u001b[34m169.254.255.130 - - [07/May/2020:19:26:19 +0000] \"GET /execution-parameters HTTP/1.1\" 200 84 \"-\" \"Go-http-client/1.1\"\u001b[0m\n",
      "\u001b[35m[2020-05-07:19:26:19:INFO] No GPUs detected (normal if no gpus installed)\u001b[0m\n",
      "\u001b[35m169.254.255.130 - - [07/May/2020:19:26:19 +0000] \"GET /ping HTTP/1.1\" 200 0 \"-\" \"Go-http-client/1.1\"\u001b[0m\n",
      "\u001b[35m169.254.255.130 - - [07/May/2020:19:26:19 +0000] \"GET /execution-parameters HTTP/1.1\" 200 84 \"-\" \"Go-http-client/1.1\"\u001b[0m\n",
      "\u001b[34m[2020-05-07:19:26:19:INFO] Determined delimiter of CSV input is ','\u001b[0m\n",
      "\u001b[34m[19:26:19] WARNING: /workspace/src/objective/regression_obj.cu:152: reg:linear is now deprecated in favor of reg:squarederror.\u001b[0m\n",
      "\u001b[34m169.254.255.130 - - [07/May/2020:19:26:19 +0000] \"POST /invocations HTTP/1.1\" 200 3107 \"-\" \"Go-http-client/1.1\"\u001b[0m\n",
      "\u001b[35m[2020-05-07:19:26:19:INFO] Determined delimiter of CSV input is ','\u001b[0m\n",
      "\u001b[35m[19:26:19] WARNING: /workspace/src/objective/regression_obj.cu:152: reg:linear is now deprecated in favor of reg:squarederror.\u001b[0m\n",
      "\u001b[35m169.254.255.130 - - [07/May/2020:19:26:19 +0000] \"POST /invocations HTTP/1.1\" 200 3107 \"-\" \"Go-http-client/1.1\"\u001b[0m\n",
      "\u001b[32m2020-05-07T19:26:19.193:[sagemaker logs]: MaxConcurrentTransforms=4, MaxPayloadInMB=6, BatchStrategy=MULTI_RECORD\u001b[0m\n",
      "\n"
     ]
    }
   ],
   "source": [
    "xgb_transformer.wait()"
   ]
  },
  {
   "cell_type": "markdown",
   "metadata": {},
   "source": [
    "Now that the batch transform job has finished, the resulting output is stored on S3. Since we wish to analyze the output inside of our notebook we can use a bit of notebook magic to copy the output file from its S3 location and save it locally."
   ]
  },
  {
   "cell_type": "code",
   "execution_count": 19,
   "metadata": {},
   "outputs": [
    {
     "name": "stdout",
     "output_type": "stream",
     "text": [
      "Completed 3.0 KiB/3.0 KiB (48.8 KiB/s) with 1 file(s) remaining\r",
      "download: s3://sagemaker-us-east-2-053596391548/sagemaker-xgboost-2020-05-07-19-22-35-481/test.csv.out to ../data/boston/test.csv.out\r\n"
     ]
    }
   ],
   "source": [
    "!aws s3 cp --recursive $xgb_transformer.output_path $data_dir"
   ]
  },
  {
   "cell_type": "markdown",
   "metadata": {},
   "source": [
    "To see how well our model works we can create a simple scatter plot between the predicted and actual values. If the model was completely accurate the resulting scatter plot would look like the line $x=y$. As we can see, our model seems to have done okay but there is room for improvement."
   ]
  },
  {
   "cell_type": "code",
   "execution_count": 20,
   "metadata": {},
   "outputs": [],
   "source": [
    "Y_pred = pd.read_csv(os.path.join(data_dir, 'test.csv.out'), header=None)"
   ]
  },
  {
   "cell_type": "code",
   "execution_count": 21,
   "metadata": {},
   "outputs": [
    {
     "data": {
      "text/plain": [
       "Text(0.5, 1.0, 'Median Price vs Predicted Price')"
      ]
     },
     "execution_count": 21,
     "metadata": {},
     "output_type": "execute_result"
    },
    {
     "data": {
      "image/png": "[encoded data removed]",
      "text/plain": [
       "<Figure size 432x288 with 1 Axes>"
      ]
     },
     "metadata": {},
     "output_type": "display_data"
    }
   ],
   "source": [
    "plt.scatter(Y_test, Y_pred)\n",
    "plt.xlabel(\"Median Price\")\n",
    "plt.ylabel(\"Predicted Price\")\n",
    "plt.title(\"Median Price vs Predicted Price\")"
   ]
  },
  {
   "cell_type": "code",
   "execution_count": 23,
   "metadata": {},
   "outputs": [],
   "source": [
    "from sklearn.metrics import mean_squared_error"
   ]
  },
  {
   "cell_type": "code",
   "execution_count": 24,
   "metadata": {},
   "outputs": [
    {
     "data": {
      "text/plain": [
       "9.255736007835424"
      ]
     },
     "execution_count": 24,
     "metadata": {},
     "output_type": "execute_result"
    }
   ],
   "source": [
    "mean_squared_error(Y_pred, Y_test)"
   ]
  },
  {
   "cell_type": "markdown",
   "metadata": {},
   "source": [
    "## Optional: Clean up\n",
    "\n",
    "The default notebook instance on SageMaker doesn't have a lot of excess disk space available. As you continue to complete and execute notebooks you will eventually fill up this disk space, leading to errors which can be difficult to diagnose. Once you are completely finished using a notebook it is a good idea to remove the files that you created along the way. Of course, you can do this from the terminal or from the notebook hub if you would like. The cell below contains some commands to clean up the created files from within the notebook."
   ]
  },
  {
   "cell_type": "code",
   "execution_count": 25,
   "metadata": {},
   "outputs": [],
   "source": [
    "# First we will remove all of the files contained in the data_dir directory\n",
    "!rm $data_dir/*\n",
    "\n",
    "# And then we delete the directory itself\n",
    "!rmdir $data_dir"
   ]
  },
  {
   "cell_type": "code",
   "execution_count": null,
   "metadata": {},
   "outputs": [],
   "source": []
  }
 ],
 "metadata": {
  "kernelspec": {
   "display_name": "conda_pytorch_p36",
   "language": "python",
   "name": "conda_pytorch_p36"
  },
  "language_info": {
   "codemirror_mode": {
    "name": "ipython",
    "version": 3
   },
   "file_extension": ".py",
   "mimetype": "text/x-python",
   "name": "python",
   "nbconvert_exporter": "python",
   "pygments_lexer": "ipython3",
   "version": "3.6.5"
  }
 },
 "nbformat": 4,
 "nbformat_minor": 2
}
